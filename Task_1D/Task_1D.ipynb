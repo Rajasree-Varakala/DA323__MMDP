{
 "cells": [
  {
   "cell_type": "code",
   "execution_count": 1,
   "id": "95a49c58-6ff8-4715-be37-ed26351c286a",
   "metadata": {},
   "outputs": [],
   "source": [
    "indian_cities = [\n",
    "    \"Mumbai\", \"Delhi\", \"Bangalore\", \"Hyderabad\", \"Chennai\", \n",
    "    \"Kolkata\", \"Ahmedabad\", \"Pune\", \"Surat\", \"Jaipur\",\n",
    "    \"Lucknow\", \"Kanpur\", \"Nagpur\", \"Indore\", \"Bhopal\",\n",
    "    \"Visakhapatnam\", \"Patna\", \"Vadodara\", \"Ghaziabad\", \"Ludhiana\",\n",
    "    \"Coimbatore\", \"Chandigarh\", \"Agra\", \"Varanasi\", \"Mysore\"\n",
    "]\n",
    "\n",
    "city_coordinates = {\n",
    "    \"Mumbai\": (19.0760, 72.8777),\n",
    "    \"Delhi\": (28.7041, 77.1025),\n",
    "    \"Bangalore\": (12.9716, 77.5946),\n",
    "    \"Hyderabad\": (17.3850, 78.4867),\n",
    "    \"Chennai\": (13.0827, 80.2707),\n",
    "    \"Kolkata\": (22.5726, 88.3639),\n",
    "    \"Ahmedabad\": (23.0225, 72.5714),\n",
    "    \"Pune\": (18.5204, 73.8567),\n",
    "    \"Surat\": (21.1702, 72.8311),\n",
    "    \"Jaipur\": (26.9124, 75.7873),\n",
    "    \"Lucknow\": (26.8467, 80.9462),\n",
    "    \"Kanpur\": (26.4499, 80.3319),\n",
    "    \"Nagpur\": (21.1458, 79.0882),\n",
    "    \"Indore\": (22.7196, 75.8577),\n",
    "    \"Bhopal\": (23.2599, 77.4126),\n",
    "    \"Visakhapatnam\": (17.6868, 83.2185),\n",
    "    \"Patna\": (25.5941, 85.1376),\n",
    "    \"Vadodara\": (22.3072, 73.1812),\n",
    "    \"Ghaziabad\": (28.6692, 77.4538),\n",
    "    \"Ludhiana\": (30.9010, 75.8573),\n",
    "    \"Coimbatore\": (11.0054, 76.9626),\n",
    "    \"Chandigarh\": (30.7333, 76.7794),\n",
    "    \"Agra\": (27.1767, 78.0081),\n",
    "    \"Varanasi\": (25.3200, 83.0104),\n",
    "    \"Mysore\": (12.2958, 76.6394)\n",
    "}"
   ]
  },
  {
   "cell_type": "code",
   "execution_count": 3,
   "id": "94f3fa21-d7b2-42dc-a940-dd97987a76f0",
   "metadata": {},
   "outputs": [
    {
     "name": "stdout",
     "output_type": "stream",
     "text": [
      "Successfully fetched data for Mumbai\n",
      "Successfully fetched data for Delhi\n",
      "Successfully fetched data for Bangalore\n",
      "Successfully fetched data for Hyderabad\n",
      "Successfully fetched data for Chennai\n",
      "Successfully fetched data for Kolkata\n",
      "Successfully fetched data for Ahmedabad\n",
      "Successfully fetched data for Pune\n",
      "Successfully fetched data for Surat\n",
      "Successfully fetched data for Jaipur\n",
      "Successfully fetched data for Lucknow\n",
      "Successfully fetched data for Kanpur\n",
      "Successfully fetched data for Nagpur\n",
      "Successfully fetched data for Indore\n",
      "Successfully fetched data for Bhopal\n",
      "Successfully fetched data for Visakhapatnam\n",
      "Successfully fetched data for Patna\n",
      "Successfully fetched data for Vadodara\n",
      "Successfully fetched data for Ghaziabad\n",
      "Successfully fetched data for Ludhiana\n",
      "Successfully fetched data for Coimbatore\n",
      "Successfully fetched data for Chandigarh\n",
      "Successfully fetched data for Agra\n",
      "Successfully fetched data for Varanasi\n",
      "Successfully fetched data for Mysore\n",
      "Weather data collection complete. Data saved to weather_dataset/Indian_Cities_Weather_Trends.csv\n"
     ]
    }
   ],
   "source": [
    "import requests\n",
    "import pandas as pd\n",
    "import time\n",
    "from datetime import datetime\n",
    "import os\n",
    "# OpenWeatherMap API configuration\n",
    "API_KEY = \"a5234c246ce33bcc8c33dfc66b327185\"\n",
    "BASE_URL = \"http://api.openweathermap.org/data/2.5/weather\"\n",
    "\n",
    "# Create a directory for the dataset\n",
    "os.makedirs(\"weather_dataset\", exist_ok=True)\n",
    "\n",
    "# Initialize an empty list to store weather data\n",
    "weather_data = []\n",
    "\n",
    "# Function to get weather data for a city\n",
    "def get_weather(city, lat, lon):\n",
    "    params = {\n",
    "        \"lat\": lat,\n",
    "        \"lon\": lon,\n",
    "        \"appid\": API_KEY,\n",
    "        \"units\": \"metric\"  # For Celsius temperature\n",
    "    }\n",
    "    \n",
    "    response = requests.get(BASE_URL, params=params)\n",
    "    data = response.json()\n",
    "    \n",
    "    if response.status_code == 200:\n",
    "        weather_data.append({\n",
    "            \"city\": city,\n",
    "            \"timestamp\": datetime.now().strftime(\"%Y-%m-%d %H:%M:%S\"),\n",
    "            \"temperature\": data[\"main\"][\"temp\"],\n",
    "            \"humidity\": data[\"main\"][\"humidity\"],\n",
    "            \"wind_speed\": data[\"wind\"][\"speed\"],\n",
    "            \"weather_condition\": data[\"weather\"][0][\"main\"],\n",
    "            \"weather_description\": data[\"weather\"][0][\"description\"]\n",
    "        })\n",
    "        \n",
    "        print(f\"Successfully fetched data for {city}\")\n",
    "        \n",
    "    else:\n",
    "        print(f\"Error fetching data for {city}: {data.get('message', 'Unknown error')}\")\n",
    "\n",
    "# Collect data for all cities\n",
    "for city, (lat, lon) in city_coordinates.items():\n",
    "    get_weather(city, lat, lon)\n",
    "\n",
    "# Save data to CSV\n",
    "weather_df = pd.DataFrame(weather_data)\n",
    "weather_df.to_csv(\"weather_dataset/Indian_Cities_Weather_Trends.csv\", index=False)\n",
    "\n",
    "print(\"Weather data collection complete. Data saved to weather_dataset/Indian_Cities_Weather_Trends.csv\")\n"
   ]
  },
  {
   "cell_type": "code",
   "execution_count": 10,
   "id": "3fe760df-155d-4efc-beb1-867e6bba19b8",
   "metadata": {},
   "outputs": [
    {
     "name": "stdout",
     "output_type": "stream",
     "text": [
      "Requirement already satisfied: schedule in c:\\users\\rajas\\pywavelets-env\\lib\\site-packages (1.2.2)\n",
      "Note: you may need to restart the kernel to use updated packages.\n"
     ]
    },
    {
     "name": "stderr",
     "output_type": "stream",
     "text": [
      "\n",
      "[notice] A new release of pip is available: 24.1 -> 25.0.1\n",
      "[notice] To update, run: C:\\Users\\rajas\\pywavelets-env\\Scripts\\python.exe -m pip install --upgrade pip\n"
     ]
    }
   ],
   "source": [
    "pip install schedule"
   ]
  },
  {
   "cell_type": "code",
   "execution_count": null,
   "id": "ce128cdc-190c-49fc-9445-8c7ad09101b9",
   "metadata": {},
   "outputs": [],
   "source": [
    "import schedule\n",
    "import time\n",
    "\n",
    "def collect_weather_data():\n",
    "    # Call the function to collect data here\n",
    "    for city, (lat, lon) in city_coordinates.items():\n",
    "        get_weather(city, lat, lon)\n",
    "    \n",
    "    # Save data to CSV with a timestamp in the filename\n",
    "    timestamp = datetime.now().strftime(\"%Y-%m-%d_%H-%M-%S\")\n",
    "    weather_df = pd.DataFrame(weather_data)\n",
    "    weather_df.to_csv(f\"weather_dataset/weather_data_{timestamp}.csv\", index=False)\n",
    "\n",
    "# Schedule the function to run daily at 08:00\n",
    "schedule.every().day.at(\"08:00\").do(collect_weather_data)\n",
    "\n",
    "while True:\n",
    "    schedule.run_pending()\n",
    "    time.sleep(1)\n"
   ]
  }
 ],
 "metadata": {
  "kernelspec": {
   "display_name": "Python (pywavelets-env)",
   "language": "python",
   "name": "pywavelets-env"
  },
  "language_info": {
   "codemirror_mode": {
    "name": "ipython",
    "version": 3
   },
   "file_extension": ".py",
   "mimetype": "text/x-python",
   "name": "python",
   "nbconvert_exporter": "python",
   "pygments_lexer": "ipython3",
   "version": "3.12.3"
  }
 },
 "nbformat": 4,
 "nbformat_minor": 5
}
