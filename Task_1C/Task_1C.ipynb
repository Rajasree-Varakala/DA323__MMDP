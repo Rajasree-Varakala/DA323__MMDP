{
 "cells": [
  {
   "cell_type": "code",
   "execution_count": 1,
   "id": "07ed6291-384a-45c7-8329-d4bba0c99f4b",
   "metadata": {},
   "outputs": [
    {
     "name": "stdout",
     "output_type": "stream",
     "text": [
      "Requirement already satisfied: pydub in c:\\users\\rajas\\anaconda3\\lib\\site-packages (0.25.1)\n",
      "Requirement already satisfied: requests in c:\\users\\rajas\\anaconda3\\lib\\site-packages (2.31.0)\n",
      "Requirement already satisfied: ffmpeg-python in c:\\users\\rajas\\anaconda3\\lib\\site-packages (0.2.0)\n",
      "Requirement already satisfied: pandas in c:\\users\\rajas\\anaconda3\\lib\\site-packages (2.1.4)\n",
      "Requirement already satisfied: charset-normalizer<4,>=2 in c:\\users\\rajas\\anaconda3\\lib\\site-packages (from requests) (2.0.4)\n",
      "Requirement already satisfied: idna<4,>=2.5 in c:\\users\\rajas\\anaconda3\\lib\\site-packages (from requests) (3.4)\n",
      "Requirement already satisfied: urllib3<3,>=1.21.1 in c:\\users\\rajas\\anaconda3\\lib\\site-packages (from requests) (2.0.7)\n",
      "Requirement already satisfied: certifi>=2017.4.17 in c:\\users\\rajas\\anaconda3\\lib\\site-packages (from requests) (2025.1.31)\n",
      "Requirement already satisfied: future in c:\\users\\rajas\\anaconda3\\lib\\site-packages (from ffmpeg-python) (0.18.3)\n",
      "Requirement already satisfied: numpy<2,>=1.23.2 in c:\\users\\rajas\\anaconda3\\lib\\site-packages (from pandas) (1.26.4)\n",
      "Requirement already satisfied: python-dateutil>=2.8.2 in c:\\users\\rajas\\anaconda3\\lib\\site-packages (from pandas) (2.8.2)\n",
      "Requirement already satisfied: pytz>=2020.1 in c:\\users\\rajas\\anaconda3\\lib\\site-packages (from pandas) (2023.3.post1)\n",
      "Requirement already satisfied: tzdata>=2022.1 in c:\\users\\rajas\\anaconda3\\lib\\site-packages (from pandas) (2023.3)\n",
      "Requirement already satisfied: six>=1.5 in c:\\users\\rajas\\anaconda3\\lib\\site-packages (from python-dateutil>=2.8.2->pandas) (1.16.0)\n"
     ]
    }
   ],
   "source": [
    "!pip install pydub requests ffmpeg-python pandas"
   ]
  },
  {
   "cell_type": "code",
   "execution_count": 11,
   "id": "51bf2cae-a970-4902-bccf-7008202eb308",
   "metadata": {},
   "outputs": [
    {
     "name": "stdout",
     "output_type": "stream",
     "text": [
      "Collecting pydub\n",
      "  Using cached pydub-0.25.1-py2.py3-none-any.whl.metadata (1.4 kB)\n",
      "Using cached pydub-0.25.1-py2.py3-none-any.whl (32 kB)\n",
      "Installing collected packages: pydub\n",
      "Successfully installed pydub-0.25.1\n",
      "Note: you may need to restart the kernel to use updated packages.\n"
     ]
    },
    {
     "name": "stderr",
     "output_type": "stream",
     "text": [
      "\n",
      "[notice] A new release of pip is available: 24.1 -> 25.0.1\n",
      "[notice] To update, run: C:\\Users\\rajas\\pywavelets-env\\Scripts\\python.exe -m pip install --upgrade pip\n"
     ]
    }
   ],
   "source": [
    "pip install pydub"
   ]
  },
  {
   "cell_type": "code",
   "execution_count": 13,
   "id": "cc967bea-7963-4434-a061-1f638b9465a4",
   "metadata": {},
   "outputs": [
    {
     "name": "stdout",
     "output_type": "stream",
     "text": [
      "Failed to access http://streaming.radio.co/s8bfa9f7e3/listen\n",
      "Error recording Rock Classics: HTTPConnectionPool(host='stream.whro.org', port=80): Max retries exceeded with url: /whro-rock (Caused by NameResolutionError(\"<urllib3.connection.HTTPConnection object at 0x000001CC0CE313D0>: Failed to resolve 'stream.whro.org' ([Errno 11001] getaddrinfo failed)\"))\n",
      "Error recording Classical Music: HTTPConnectionPool(host='icecast.somafm.com', port=80): Max retries exceeded with url: /classical-mp3 (Caused by NameResolutionError(\"<urllib3.connection.HTTPConnection object at 0x000001CC0CE55AF0>: Failed to resolve 'icecast.somafm.com' ([Errno 11001] getaddrinfo failed)\"))\n",
      "Failed to access http://streaming.radio.co/s9a48e5a3c/listen\n",
      "Error recording Pop Hits: HTTPConnectionPool(host='us1.internet-radio.com', port=8105): Max retries exceeded with url: /stream (Caused by NewConnectionError('<urllib3.connection.HTTPConnection object at 0x000001CC0CE58FB0>: Failed to establish a new connection: [WinError 10061] No connection could be made because the target machine actively refused it'))\n",
      "Error recording Electronic Dance Music (EDM): list index out of range\n",
      "Failed to access http://stream.zeno.fm/0ypx8ghy3hhvv\n",
      "Error recording Blues Legends: HTTPConnectionPool(host='blues-radio-stream.live24.gr', port=80): Max retries exceeded with url: / (Caused by NameResolutionError(\"<urllib3.connection.HTTPConnection object at 0x000001CC0CE59520>: Failed to resolve 'blues-radio-stream.live24.gr' ([Errno 11001] getaddrinfo failed)\"))\n",
      "Failed to access http://streaming.live365.com/a35674\n",
      "Failed to access http://streaming.radio.co/s8bfa9f7e3/listen\n",
      "Error recording Rock Classics: HTTPConnectionPool(host='stream.whro.org', port=80): Max retries exceeded with url: /whro-rock (Caused by NameResolutionError(\"<urllib3.connection.HTTPConnection object at 0x000001CC0CE59D00>: Failed to resolve 'stream.whro.org' ([Errno 11002] getaddrinfo failed)\"))\n",
      "Error recording Classical Music: HTTPConnectionPool(host='icecast.somafm.com', port=80): Max retries exceeded with url: /classical-mp3 (Caused by NameResolutionError(\"<urllib3.connection.HTTPConnection object at 0x000001CC0CE5ABA0>: Failed to resolve 'icecast.somafm.com' ([Errno 11001] getaddrinfo failed)\"))\n",
      "Failed to access http://streaming.radio.co/s9a48e5a3c/listen\n",
      "Error recording Pop Hits: HTTPConnectionPool(host='us1.internet-radio.com', port=8105): Max retries exceeded with url: /stream (Caused by NewConnectionError('<urllib3.connection.HTTPConnection object at 0x000001CC0CE1C3B0>: Failed to establish a new connection: [WinError 10061] No connection could be made because the target machine actively refused it'))\n",
      "Error recording Electronic Dance Music (EDM): list index out of range\n",
      "Failed to access http://stream.zeno.fm/0ypx8ghy3hhvv\n",
      "Error recording Blues Legends: HTTPConnectionPool(host='blues-radio-stream.live24.gr', port=80): Max retries exceeded with url: / (Caused by NameResolutionError(\"<urllib3.connection.HTTPConnection object at 0x000001CC0CE5AC00>: Failed to resolve 'blues-radio-stream.live24.gr' ([Errno 11001] getaddrinfo failed)\"))\n",
      "Failed to access http://streaming.live365.com/a35674\n",
      "Failed to access http://streaming.radio.co/s8bfa9f7e3/listen\n",
      "Error recording Rock Classics: HTTPConnectionPool(host='stream.whro.org', port=80): Max retries exceeded with url: /whro-rock (Caused by NameResolutionError(\"<urllib3.connection.HTTPConnection object at 0x000001CC0CE5A9F0>: Failed to resolve 'stream.whro.org' ([Errno 11001] getaddrinfo failed)\"))\n",
      "Error recording Classical Music: HTTPConnectionPool(host='icecast.somafm.com', port=80): Max retries exceeded with url: /classical-mp3 (Caused by NameResolutionError(\"<urllib3.connection.HTTPConnection object at 0x000001CC0CE599A0>: Failed to resolve 'icecast.somafm.com' ([Errno 11001] getaddrinfo failed)\"))\n",
      "Failed to access http://streaming.radio.co/s9a48e5a3c/listen\n",
      "Error recording Pop Hits: HTTPConnectionPool(host='us1.internet-radio.com', port=8105): Max retries exceeded with url: /stream (Caused by NewConnectionError('<urllib3.connection.HTTPConnection object at 0x000001CC0CE59670>: Failed to establish a new connection: [WinError 10061] No connection could be made because the target machine actively refused it'))\n",
      "Error recording Electronic Dance Music (EDM): list index out of range\n",
      "Failed to access http://stream.zeno.fm/0ypx8ghy3hhvv\n",
      "Error recording Blues Legends: HTTPConnectionPool(host='blues-radio-stream.live24.gr', port=80): Max retries exceeded with url: / (Caused by NameResolutionError(\"<urllib3.connection.HTTPConnection object at 0x000001CC0CE5BCE0>: Failed to resolve 'blues-radio-stream.live24.gr' ([Errno 11001] getaddrinfo failed)\"))\n",
      "Failed to access http://streaming.live365.com/a35674\n",
      "Audio recording completed!\n"
     ]
    }
   ],
   "source": [
    "import os\n",
    "import time\n",
    "import requests\n",
    "import pandas as pd\n",
    "from pydub import AudioSegment\n",
    "\n",
    "radio_stations = {\n",
    "    \"Jazz Radio\": \"http://streaming.radio.co/s8bfa9f7e3/listen\",\n",
    "    \"Rock Classics\": \"http://stream.whro.org/whro-rock\",\n",
    "    \"Classical Music\": \"http://icecast.somafm.com/classical-mp3\",\n",
    "    \"Hip-Hop Beats\": \"http://streaming.radio.co/s9a48e5a3c/listen\",\n",
    "    \"Pop Hits\": \"http://us1.internet-radio.com:8105/stream\",\n",
    "    \"Electronic Dance Music (EDM)\": \"http://listen.di.fm/public1/edm.pls\",\n",
    "    \"Reggae Vibes\": \"http://uk7.internet-radio.com:8000/live.m3u\",\n",
    "    \"Latin Rhythms\": \"http://stream.zeno.fm/0ypx8ghy3hhvv\",\n",
    "    \"Blues Legends\": \"http://blues-radio-stream.live24.gr:80\",\n",
    "    \"Indie Alternative\": \"http://streaming.live365.com/a35674\",\n",
    "}\n",
    "\n",
    "\n",
    "# Output folder\n",
    "output_folder = \"music_audio_dataset\"\n",
    "os.makedirs(output_folder, exist_ok=True)\n",
    "\n",
    "# CSV file to store metadata\n",
    "csv_filename = os.path.join(output_folder, \"metadata.csv\")\n",
    "\n",
    "# Function to record and save audio\n",
    "def record_audio(station_name, url, duration=30):\n",
    "    try:\n",
    "        # Add stream headers to mimic browser request\n",
    "        headers = {\n",
    "            'User-Agent': 'Mozilla/5.0 (Windows NT 10.0; Win64; x64) AppleWebKit/537.36 (KHTML, like Gecko) Chrome/58.0.3029.110 Safari/537.3'\n",
    "        }\n",
    "        \n",
    "        response = requests.get(url, stream=True, timeout=10, headers=headers)\n",
    "        \n",
    "        if response.status_code != 200:\n",
    "            print(f\"Failed to access {url}\")\n",
    "            return None\n",
    "\n",
    "        # Save the raw audio data\n",
    "        audio_path = os.path.join(output_folder, f\"{station_name.replace(' ', '_')}_{int(time.time())}.mp3\")\n",
    "        with open(audio_path, \"wb\") as audio_file:\n",
    "            start_time = time.time()\n",
    "            for chunk in response.iter_content(chunk_size=1024):\n",
    "                if time.time() - start_time > duration:\n",
    "                    break\n",
    "                audio_file.write(chunk)\n",
    "\n",
    "        # Convert to WAV format\n",
    "        audio_wav_path = audio_path.replace(\".mp3\", \".wav\")\n",
    "        audio = AudioSegment.from_mp3(audio_path)\n",
    "        audio.export(audio_wav_path, format=\"wav\")\n",
    "\n",
    "        return station_name, audio_wav_path, time.strftime('%Y-%m-%d %H:%M:%S', time.localtime(start_time)), duration\n",
    "\n",
    "    except Exception as e:\n",
    "        print(f\"Error recording {station_name}: {e}\")\n",
    "        return None\n",
    "\n",
    "# Store metadata\n",
    "metadata = []\n",
    "\n",
    "for i in range(3):  # Capture multiple samples\n",
    "    for station, url in radio_stations.items():\n",
    "        result = record_audio(station, url, duration=30)\n",
    "        if result:\n",
    "            metadata.append(result)\n",
    "\n",
    "# Save metadata to CSV\n",
    "df = pd.DataFrame(metadata, columns=[\"Station Name\", \"File Path\", \"Timestamp\", \"Duration (sec)\"])\n",
    "df.to_csv(csv_filename, index=False)\n",
    "\n",
    "print(\"Audio recording completed!\")\n"
   ]
  }
 ],
 "metadata": {
  "kernelspec": {
   "display_name": "Python (pywavelets-env)",
   "language": "python",
   "name": "pywavelets-env"
  },
  "language_info": {
   "codemirror_mode": {
    "name": "ipython",
    "version": 3
   },
   "file_extension": ".py",
   "mimetype": "text/x-python",
   "name": "python",
   "nbconvert_exporter": "python",
   "pygments_lexer": "ipython3",
   "version": "3.12.3"
  }
 },
 "nbformat": 4,
 "nbformat_minor": 5
}
